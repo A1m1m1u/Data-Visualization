{
 "cells": [
  {
   "cell_type": "markdown",
   "id": "6570bda3",
   "metadata": {
    "papermill": {
     "duration": 0.010081,
     "end_time": "2023-03-30T11:54:57.982158",
     "exception": false,
     "start_time": "2023-03-30T11:54:57.972077",
     "status": "completed"
    },
    "tags": []
   },
   "source": [
    "**This notebook is an exercise in the [Data Visualization](https://www.kaggle.com/learn/data-visualization) course.  You can reference the tutorial at [this link](https://www.kaggle.com/alexisbcook/scatter-plots).**\n",
    "\n",
    "---\n"
   ]
  },
  {
   "cell_type": "markdown",
   "id": "a746260a",
   "metadata": {
    "papermill": {
     "duration": 0.008782,
     "end_time": "2023-03-30T11:54:57.999921",
     "exception": false,
     "start_time": "2023-03-30T11:54:57.991139",
     "status": "completed"
    },
    "tags": []
   },
   "source": [
    "In this exercise, you will use your new knowledge to propose a solution to a real-world scenario.  To succeed, you will need to import data into Python, answer questions using the data, and generate **scatter plots** to understand patterns in the data.\n",
    "\n",
    "## Scenario\n",
    "\n",
    "You work for a major candy producer, and your goal is to write a report that your company can use to guide the design of its next product.  Soon after starting your research, you stumble across this [very interesting dataset](https://fivethirtyeight.com/features/the-ultimate-halloween-candy-power-ranking/) containing results from a fun survey to crowdsource favorite candies.\n",
    "\n",
    "## Setup\n",
    "\n",
    "Run the next cell to import and configure the Python libraries that you need to complete the exercise."
   ]
  },
  {
   "cell_type": "code",
   "execution_count": 1,
   "id": "13b81aff",
   "metadata": {
    "execution": {
     "iopub.execute_input": "2023-03-30T11:54:58.021687Z",
     "iopub.status.busy": "2023-03-30T11:54:58.020680Z",
     "iopub.status.idle": "2023-03-30T11:54:59.621560Z",
     "shell.execute_reply": "2023-03-30T11:54:59.619732Z"
    },
    "papermill": {
     "duration": 1.616017,
     "end_time": "2023-03-30T11:54:59.625445",
     "exception": false,
     "start_time": "2023-03-30T11:54:58.009428",
     "status": "completed"
    },
    "tags": []
   },
   "outputs": [
    {
     "name": "stdout",
     "output_type": "stream",
     "text": [
      "Setup Complete\n"
     ]
    }
   ],
   "source": [
    "import pandas as pd\n",
    "pd.plotting.register_matplotlib_converters()\n",
    "import matplotlib.pyplot as plt\n",
    "%matplotlib inline\n",
    "import seaborn as sns\n",
    "print(\"Setup Complete\")"
   ]
  },
  {
   "cell_type": "markdown",
   "id": "200b3da0",
   "metadata": {
    "papermill": {
     "duration": 0.008534,
     "end_time": "2023-03-30T11:54:59.643088",
     "exception": false,
     "start_time": "2023-03-30T11:54:59.634554",
     "status": "completed"
    },
    "tags": []
   },
   "source": [
    "The questions below will give you feedback on your work. Run the following cell to set up our feedback system."
   ]
  },
  {
   "cell_type": "code",
   "execution_count": 2,
   "id": "944fba49",
   "metadata": {
    "execution": {
     "iopub.execute_input": "2023-03-30T11:54:59.663344Z",
     "iopub.status.busy": "2023-03-30T11:54:59.662633Z",
     "iopub.status.idle": "2023-03-30T11:54:59.748522Z",
     "shell.execute_reply": "2023-03-30T11:54:59.747006Z"
    },
    "papermill": {
     "duration": 0.098945,
     "end_time": "2023-03-30T11:54:59.751059",
     "exception": false,
     "start_time": "2023-03-30T11:54:59.652114",
     "status": "completed"
    },
    "tags": []
   },
   "outputs": [
    {
     "name": "stdout",
     "output_type": "stream",
     "text": [
      "Setup Complete\n"
     ]
    }
   ],
   "source": [
    "# Set up code checking\n",
    "import os\n",
    "if not os.path.exists(\"../input/candy.csv\"):\n",
    "    os.symlink(\"../input/data-for-datavis/candy.csv\", \"../input/candy.csv\") \n",
    "from learntools.core import binder\n",
    "binder.bind(globals())\n",
    "from learntools.data_viz_to_coder.ex4 import *\n",
    "print(\"Setup Complete\")"
   ]
  },
  {
   "cell_type": "markdown",
   "id": "b85d4d9a",
   "metadata": {
    "papermill": {
     "duration": 0.008795,
     "end_time": "2023-03-30T11:54:59.769222",
     "exception": false,
     "start_time": "2023-03-30T11:54:59.760427",
     "status": "completed"
    },
    "tags": []
   },
   "source": [
    "## Step 1: Load the Data\n",
    "\n",
    "Read the candy data file into `candy_data`.  Use the `\"id\"` column to label the rows."
   ]
  },
  {
   "cell_type": "code",
   "execution_count": 3,
   "id": "e188dad8",
   "metadata": {
    "execution": {
     "iopub.execute_input": "2023-03-30T11:54:59.790249Z",
     "iopub.status.busy": "2023-03-30T11:54:59.789581Z",
     "iopub.status.idle": "2023-03-30T11:54:59.804656Z",
     "shell.execute_reply": "2023-03-30T11:54:59.803359Z"
    },
    "papermill": {
     "duration": 0.028639,
     "end_time": "2023-03-30T11:54:59.807033",
     "exception": false,
     "start_time": "2023-03-30T11:54:59.778394",
     "status": "completed"
    },
    "tags": []
   },
   "outputs": [
    {
     "data": {
      "application/javascript": [
       "parent.postMessage({\"jupyterEvent\": \"custom.exercise_interaction\", \"data\": {\"outcomeType\": 1, \"valueTowardsCompletion\": 0.3333333333333333, \"interactionType\": 1, \"questionType\": 1, \"questionId\": \"1_LoadData\", \"learnToolsVersion\": \"0.3.4\", \"failureMessage\": \"\", \"exceptionClass\": \"\", \"trace\": \"\"}}, \"*\")"
      ],
      "text/plain": [
       "<IPython.core.display.Javascript object>"
      ]
     },
     "metadata": {},
     "output_type": "display_data"
    },
    {
     "data": {
      "text/markdown": [
       "<span style=\"color:#33cc33\">Correct</span>"
      ],
      "text/plain": [
       "Correct"
      ]
     },
     "metadata": {},
     "output_type": "display_data"
    }
   ],
   "source": [
    "# Path of the file to read\n",
    "candy_filepath = \"../input/candy.csv\"\n",
    "\n",
    "# Fill in the line below to read the file into a variable candy_data\n",
    "candy_data = pd.read_csv(candy_filepath, index_col=\"id\")\n",
    "\n",
    "# Run the line below with no changes to check that you've loaded the data correctly\n",
    "step_1.check()"
   ]
  },
  {
   "cell_type": "code",
   "execution_count": 4,
   "id": "355d449c",
   "metadata": {
    "execution": {
     "iopub.execute_input": "2023-03-30T11:54:59.827767Z",
     "iopub.status.busy": "2023-03-30T11:54:59.827097Z",
     "iopub.status.idle": "2023-03-30T11:54:59.832175Z",
     "shell.execute_reply": "2023-03-30T11:54:59.831042Z"
    },
    "papermill": {
     "duration": 0.018733,
     "end_time": "2023-03-30T11:54:59.834862",
     "exception": false,
     "start_time": "2023-03-30T11:54:59.816129",
     "status": "completed"
    },
    "tags": []
   },
   "outputs": [],
   "source": [
    "# Lines below will give you a hint or solution code\n",
    "#step_1.hint()\n",
    "#step_1.solution()"
   ]
  },
  {
   "cell_type": "markdown",
   "id": "faee4fad",
   "metadata": {
    "papermill": {
     "duration": 0.008963,
     "end_time": "2023-03-30T11:54:59.853195",
     "exception": false,
     "start_time": "2023-03-30T11:54:59.844232",
     "status": "completed"
    },
    "tags": []
   },
   "source": [
    "## Step 2: Review the data\n",
    "\n",
    "Use a Python command to print the first five rows of the data."
   ]
  },
  {
   "cell_type": "code",
   "execution_count": 5,
   "id": "772b0454",
   "metadata": {
    "execution": {
     "iopub.execute_input": "2023-03-30T11:54:59.875157Z",
     "iopub.status.busy": "2023-03-30T11:54:59.874085Z",
     "iopub.status.idle": "2023-03-30T11:54:59.907685Z",
     "shell.execute_reply": "2023-03-30T11:54:59.906042Z"
    },
    "papermill": {
     "duration": 0.047332,
     "end_time": "2023-03-30T11:54:59.910767",
     "exception": false,
     "start_time": "2023-03-30T11:54:59.863435",
     "status": "completed"
    },
    "tags": []
   },
   "outputs": [
    {
     "data": {
      "text/html": [
       "<div>\n",
       "<style scoped>\n",
       "    .dataframe tbody tr th:only-of-type {\n",
       "        vertical-align: middle;\n",
       "    }\n",
       "\n",
       "    .dataframe tbody tr th {\n",
       "        vertical-align: top;\n",
       "    }\n",
       "\n",
       "    .dataframe thead th {\n",
       "        text-align: right;\n",
       "    }\n",
       "</style>\n",
       "<table border=\"1\" class=\"dataframe\">\n",
       "  <thead>\n",
       "    <tr style=\"text-align: right;\">\n",
       "      <th></th>\n",
       "      <th>competitorname</th>\n",
       "      <th>chocolate</th>\n",
       "      <th>fruity</th>\n",
       "      <th>caramel</th>\n",
       "      <th>peanutyalmondy</th>\n",
       "      <th>nougat</th>\n",
       "      <th>crispedricewafer</th>\n",
       "      <th>hard</th>\n",
       "      <th>bar</th>\n",
       "      <th>pluribus</th>\n",
       "      <th>sugarpercent</th>\n",
       "      <th>pricepercent</th>\n",
       "      <th>winpercent</th>\n",
       "    </tr>\n",
       "    <tr>\n",
       "      <th>id</th>\n",
       "      <th></th>\n",
       "      <th></th>\n",
       "      <th></th>\n",
       "      <th></th>\n",
       "      <th></th>\n",
       "      <th></th>\n",
       "      <th></th>\n",
       "      <th></th>\n",
       "      <th></th>\n",
       "      <th></th>\n",
       "      <th></th>\n",
       "      <th></th>\n",
       "      <th></th>\n",
       "    </tr>\n",
       "  </thead>\n",
       "  <tbody>\n",
       "    <tr>\n",
       "      <th>0</th>\n",
       "      <td>100 Grand</td>\n",
       "      <td>Yes</td>\n",
       "      <td>No</td>\n",
       "      <td>Yes</td>\n",
       "      <td>No</td>\n",
       "      <td>No</td>\n",
       "      <td>Yes</td>\n",
       "      <td>No</td>\n",
       "      <td>Yes</td>\n",
       "      <td>No</td>\n",
       "      <td>0.732</td>\n",
       "      <td>0.860</td>\n",
       "      <td>66.971725</td>\n",
       "    </tr>\n",
       "    <tr>\n",
       "      <th>1</th>\n",
       "      <td>3 Musketeers</td>\n",
       "      <td>Yes</td>\n",
       "      <td>No</td>\n",
       "      <td>No</td>\n",
       "      <td>No</td>\n",
       "      <td>Yes</td>\n",
       "      <td>No</td>\n",
       "      <td>No</td>\n",
       "      <td>Yes</td>\n",
       "      <td>No</td>\n",
       "      <td>0.604</td>\n",
       "      <td>0.511</td>\n",
       "      <td>67.602936</td>\n",
       "    </tr>\n",
       "    <tr>\n",
       "      <th>2</th>\n",
       "      <td>Air Heads</td>\n",
       "      <td>No</td>\n",
       "      <td>Yes</td>\n",
       "      <td>No</td>\n",
       "      <td>No</td>\n",
       "      <td>No</td>\n",
       "      <td>No</td>\n",
       "      <td>No</td>\n",
       "      <td>No</td>\n",
       "      <td>No</td>\n",
       "      <td>0.906</td>\n",
       "      <td>0.511</td>\n",
       "      <td>52.341465</td>\n",
       "    </tr>\n",
       "    <tr>\n",
       "      <th>3</th>\n",
       "      <td>Almond Joy</td>\n",
       "      <td>Yes</td>\n",
       "      <td>No</td>\n",
       "      <td>No</td>\n",
       "      <td>Yes</td>\n",
       "      <td>No</td>\n",
       "      <td>No</td>\n",
       "      <td>No</td>\n",
       "      <td>Yes</td>\n",
       "      <td>No</td>\n",
       "      <td>0.465</td>\n",
       "      <td>0.767</td>\n",
       "      <td>50.347546</td>\n",
       "    </tr>\n",
       "    <tr>\n",
       "      <th>4</th>\n",
       "      <td>Baby Ruth</td>\n",
       "      <td>Yes</td>\n",
       "      <td>No</td>\n",
       "      <td>Yes</td>\n",
       "      <td>Yes</td>\n",
       "      <td>Yes</td>\n",
       "      <td>No</td>\n",
       "      <td>No</td>\n",
       "      <td>Yes</td>\n",
       "      <td>No</td>\n",
       "      <td>0.604</td>\n",
       "      <td>0.767</td>\n",
       "      <td>56.914547</td>\n",
       "    </tr>\n",
       "  </tbody>\n",
       "</table>\n",
       "</div>"
      ],
      "text/plain": [
       "   competitorname chocolate fruity caramel peanutyalmondy nougat  \\\n",
       "id                                                                 \n",
       "0       100 Grand       Yes     No     Yes             No     No   \n",
       "1    3 Musketeers       Yes     No      No             No    Yes   \n",
       "2       Air Heads        No    Yes      No             No     No   \n",
       "3      Almond Joy       Yes     No      No            Yes     No   \n",
       "4       Baby Ruth       Yes     No     Yes            Yes    Yes   \n",
       "\n",
       "   crispedricewafer hard  bar pluribus  sugarpercent  pricepercent  winpercent  \n",
       "id                                                                              \n",
       "0               Yes   No  Yes       No         0.732         0.860   66.971725  \n",
       "1                No   No  Yes       No         0.604         0.511   67.602936  \n",
       "2                No   No   No       No         0.906         0.511   52.341465  \n",
       "3                No   No  Yes       No         0.465         0.767   50.347546  \n",
       "4                No   No  Yes       No         0.604         0.767   56.914547  "
      ]
     },
     "execution_count": 5,
     "metadata": {},
     "output_type": "execute_result"
    }
   ],
   "source": [
    "# Print the first five rows of the data\n",
    "____ # Your code here\n",
    "candy_data.head()"
   ]
  },
  {
   "cell_type": "markdown",
   "id": "7ee817b8",
   "metadata": {
    "papermill": {
     "duration": 0.009202,
     "end_time": "2023-03-30T11:54:59.929773",
     "exception": false,
     "start_time": "2023-03-30T11:54:59.920571",
     "status": "completed"
    },
    "tags": []
   },
   "source": [
    "The dataset contains 83 rows, where each corresponds to a different candy bar.  There are 13 columns:\n",
    "- `'competitorname'` contains the name of the candy bar. \n",
    "- the next **9** columns (from `'chocolate'` to `'pluribus'`) describe the candy.  For instance, rows with chocolate candies have `\"Yes\"` in the `'chocolate'` column (and candies without chocolate have `\"No\"` in the same column).\n",
    "- `'sugarpercent'` provides some indication of the amount of sugar, where higher values signify higher sugar content.\n",
    "- `'pricepercent'` shows the price per unit, relative to the other candies in the dataset.\n",
    "- `'winpercent'` is calculated from the survey results; higher values indicate that the candy was more popular with survey respondents.\n",
    "\n",
    "Use the first five rows of the data to answer the questions below."
   ]
  },
  {
   "cell_type": "code",
   "execution_count": 6,
   "id": "e8e1efd6",
   "metadata": {
    "execution": {
     "iopub.execute_input": "2023-03-30T11:54:59.951130Z",
     "iopub.status.busy": "2023-03-30T11:54:59.950677Z",
     "iopub.status.idle": "2023-03-30T11:54:59.960468Z",
     "shell.execute_reply": "2023-03-30T11:54:59.959027Z"
    },
    "papermill": {
     "duration": 0.023598,
     "end_time": "2023-03-30T11:54:59.963081",
     "exception": false,
     "start_time": "2023-03-30T11:54:59.939483",
     "status": "completed"
    },
    "tags": []
   },
   "outputs": [
    {
     "data": {
      "application/javascript": [
       "parent.postMessage({\"jupyterEvent\": \"custom.exercise_interaction\", \"data\": {\"outcomeType\": 1, \"valueTowardsCompletion\": 0.3333333333333333, \"interactionType\": 1, \"questionType\": 1, \"questionId\": \"2_ReviewData\", \"learnToolsVersion\": \"0.3.4\", \"failureMessage\": \"\", \"exceptionClass\": \"\", \"trace\": \"\"}}, \"*\")"
      ],
      "text/plain": [
       "<IPython.core.display.Javascript object>"
      ]
     },
     "metadata": {},
     "output_type": "display_data"
    },
    {
     "data": {
      "text/markdown": [
       "<span style=\"color:#33cc33\">Correct</span>"
      ],
      "text/plain": [
       "Correct"
      ]
     },
     "metadata": {},
     "output_type": "display_data"
    }
   ],
   "source": [
    "# Fill in the line below: Which candy was more popular with survey respondents:\n",
    "# '3 Musketeers' or 'Almond Joy'?  (Please enclose your answer in single quotes.)\n",
    "more_popular = '3 Musketeers'\n",
    "\n",
    "# Fill in the line below: Which candy has higher sugar content: 'Air Heads'\n",
    "# or 'Baby Ruth'? (Please enclose your answer in single quotes.)\n",
    "more_sugar = 'Air Heads'\n",
    "\n",
    "# Check your answers\n",
    "step_2.check()"
   ]
  },
  {
   "cell_type": "code",
   "execution_count": 7,
   "id": "dfa03b46",
   "metadata": {
    "execution": {
     "iopub.execute_input": "2023-03-30T11:54:59.985463Z",
     "iopub.status.busy": "2023-03-30T11:54:59.985066Z",
     "iopub.status.idle": "2023-03-30T11:54:59.989707Z",
     "shell.execute_reply": "2023-03-30T11:54:59.988570Z"
    },
    "papermill": {
     "duration": 0.019227,
     "end_time": "2023-03-30T11:54:59.992362",
     "exception": false,
     "start_time": "2023-03-30T11:54:59.973135",
     "status": "completed"
    },
    "tags": []
   },
   "outputs": [],
   "source": [
    "# Lines below will give you a hint or solution code\n",
    "#step_2.hint()\n",
    "#step_2.solution()"
   ]
  },
  {
   "cell_type": "markdown",
   "id": "e3965462",
   "metadata": {
    "papermill": {
     "duration": 0.010625,
     "end_time": "2023-03-30T11:55:00.013424",
     "exception": false,
     "start_time": "2023-03-30T11:55:00.002799",
     "status": "completed"
    },
    "tags": []
   },
   "source": [
    "## Step 3: The role of sugar\n",
    "\n",
    "Do people tend to prefer candies with higher sugar content?  \n",
    "\n",
    "#### Part A\n",
    "\n",
    "Create a scatter plot that shows the relationship between `'sugarpercent'` (on the horizontal x-axis) and `'winpercent'` (on the vertical y-axis).  _Don't add a regression line just yet -- you'll do that in the next step!_"
   ]
  },
  {
   "cell_type": "code",
   "execution_count": 8,
   "id": "9b4e0f36",
   "metadata": {
    "execution": {
     "iopub.execute_input": "2023-03-30T11:55:00.035563Z",
     "iopub.status.busy": "2023-03-30T11:55:00.035165Z",
     "iopub.status.idle": "2023-03-30T11:55:00.347448Z",
     "shell.execute_reply": "2023-03-30T11:55:00.346095Z"
    },
    "papermill": {
     "duration": 0.326213,
     "end_time": "2023-03-30T11:55:00.349857",
     "exception": false,
     "start_time": "2023-03-30T11:55:00.023644",
     "status": "completed"
    },
    "tags": []
   },
   "outputs": [
    {
     "data": {
      "application/javascript": [
       "parent.postMessage({\"jupyterEvent\": \"custom.exercise_interaction\", \"data\": {\"outcomeType\": 1, \"valueTowardsCompletion\": 0.3333333333333333, \"interactionType\": 1, \"questionType\": 2, \"questionId\": \"3.1_PlotBlueScatter\", \"learnToolsVersion\": \"0.3.4\", \"failureMessage\": \"\", \"exceptionClass\": \"\", \"trace\": \"\"}}, \"*\")"
      ],
      "text/plain": [
       "<IPython.core.display.Javascript object>"
      ]
     },
     "metadata": {},
     "output_type": "display_data"
    },
    {
     "data": {
      "text/markdown": [
       "<span style=\"color:#33cc33\">Correct</span>"
      ],
      "text/plain": [
       "Correct"
      ]
     },
     "metadata": {},
     "output_type": "display_data"
    },
    {
     "data": {
      "image/png": "[encoded data removed]",
      "text/plain": [
       "<Figure size 640x480 with 1 Axes>"
      ]
     },
     "metadata": {},
     "output_type": "display_data"
    }
   ],
   "source": [
    "# Scatter plot showing the relationship between 'sugarpercent' and 'winpercent'\n",
    "____ # Your code here\n",
    "sns.scatterplot(x=candy_data['sugarpercent'], y=candy_data['winpercent'])\n",
    "# Check your answer\n",
    "step_3.a.check()"
   ]
  },
  {
   "cell_type": "code",
   "execution_count": 9,
   "id": "768e723a",
   "metadata": {
    "execution": {
     "iopub.execute_input": "2023-03-30T11:55:00.374240Z",
     "iopub.status.busy": "2023-03-30T11:55:00.372907Z",
     "iopub.status.idle": "2023-03-30T11:55:00.377982Z",
     "shell.execute_reply": "2023-03-30T11:55:00.376914Z"
    },
    "papermill": {
     "duration": 0.019756,
     "end_time": "2023-03-30T11:55:00.380617",
     "exception": false,
     "start_time": "2023-03-30T11:55:00.360861",
     "status": "completed"
    },
    "tags": []
   },
   "outputs": [],
   "source": [
    "# Lines below will give you a hint or solution code\n",
    "#step_3.a.hint()\n",
    "#step_3.a.solution_plot()"
   ]
  },
  {
   "cell_type": "markdown",
   "id": "8f22c4da",
   "metadata": {
    "papermill": {
     "duration": 0.010058,
     "end_time": "2023-03-30T11:55:00.401186",
     "exception": false,
     "start_time": "2023-03-30T11:55:00.391128",
     "status": "completed"
    },
    "tags": []
   },
   "source": [
    "#### Part B\n",
    "\n",
    "Does the scatter plot show a **strong** correlation between the two variables?  If so, are candies with more sugar relatively more or less popular with the survey respondents?"
   ]
  },
  {
   "cell_type": "code",
   "execution_count": 10,
   "id": "495cb42d",
   "metadata": {
    "execution": {
     "iopub.execute_input": "2023-03-30T11:55:00.424651Z",
     "iopub.status.busy": "2023-03-30T11:55:00.423814Z",
     "iopub.status.idle": "2023-03-30T11:55:00.428703Z",
     "shell.execute_reply": "2023-03-30T11:55:00.427447Z"
    },
    "papermill": {
     "duration": 0.019569,
     "end_time": "2023-03-30T11:55:00.431340",
     "exception": false,
     "start_time": "2023-03-30T11:55:00.411771",
     "status": "completed"
    },
    "tags": []
   },
   "outputs": [],
   "source": [
    "#step_3.b.hint()"
   ]
  },
  {
   "cell_type": "code",
   "execution_count": 11,
   "id": "29d62e25",
   "metadata": {
    "execution": {
     "iopub.execute_input": "2023-03-30T11:55:00.455231Z",
     "iopub.status.busy": "2023-03-30T11:55:00.454071Z",
     "iopub.status.idle": "2023-03-30T11:55:00.464522Z",
     "shell.execute_reply": "2023-03-30T11:55:00.463567Z"
    },
    "papermill": {
     "duration": 0.025505,
     "end_time": "2023-03-30T11:55:00.467284",
     "exception": false,
     "start_time": "2023-03-30T11:55:00.441779",
     "status": "completed"
    },
    "tags": []
   },
   "outputs": [
    {
     "data": {
      "application/javascript": [
       "parent.postMessage({\"jupyterEvent\": \"custom.exercise_interaction\", \"data\": {\"interactionType\": 3, \"questionType\": 4, \"questionId\": \"3.2_ThinkBlueScatter\", \"learnToolsVersion\": \"0.3.4\", \"valueTowardsCompletion\": 0.0, \"failureMessage\": \"\", \"exceptionClass\": \"\", \"trace\": \"\", \"outcomeType\": 4}}, \"*\")"
      ],
      "text/plain": [
       "<IPython.core.display.Javascript object>"
      ]
     },
     "metadata": {},
     "output_type": "display_data"
    },
    {
     "data": {
      "text/markdown": [
       "<span style=\"color:#33cc99\">Solution:</span> The scatter plot does not show a strong correlation between the two variables. Since there is no clear relationship between the two variables, this tells us that sugar content does not play a strong role in candy popularity."
      ],
      "text/plain": [
       "Solution: The scatter plot does not show a strong correlation between the two variables. Since there is no clear relationship between the two variables, this tells us that sugar content does not play a strong role in candy popularity."
      ]
     },
     "metadata": {},
     "output_type": "display_data"
    }
   ],
   "source": [
    "# Check your answer (Run this code cell to receive credit!)\n",
    "step_3.b.solution()"
   ]
  },
  {
   "cell_type": "markdown",
   "id": "14ff6dca",
   "metadata": {
    "papermill": {
     "duration": 0.010837,
     "end_time": "2023-03-30T11:55:00.489497",
     "exception": false,
     "start_time": "2023-03-30T11:55:00.478660",
     "status": "completed"
    },
    "tags": []
   },
   "source": [
    "## Step 4: Take a closer look\n",
    "\n",
    "#### Part A\n",
    "\n",
    "Create the same scatter plot you created in **Step 3**, but now with a regression line!"
   ]
  },
  {
   "cell_type": "code",
   "execution_count": 12,
   "id": "a49eba80",
   "metadata": {
    "execution": {
     "iopub.execute_input": "2023-03-30T11:55:00.514797Z",
     "iopub.status.busy": "2023-03-30T11:55:00.513971Z",
     "iopub.status.idle": "2023-03-30T11:55:00.876890Z",
     "shell.execute_reply": "2023-03-30T11:55:00.875582Z"
    },
    "papermill": {
     "duration": 0.378855,
     "end_time": "2023-03-30T11:55:00.879719",
     "exception": false,
     "start_time": "2023-03-30T11:55:00.500864",
     "status": "completed"
    },
    "tags": []
   },
   "outputs": [
    {
     "data": {
      "application/javascript": [
       "parent.postMessage({\"jupyterEvent\": \"custom.exercise_interaction\", \"data\": {\"outcomeType\": 1, \"valueTowardsCompletion\": 0.3333333333333333, \"interactionType\": 1, \"questionType\": 2, \"questionId\": \"4.1_PlotBlueReg\", \"learnToolsVersion\": \"0.3.4\", \"failureMessage\": \"\", \"exceptionClass\": \"\", \"trace\": \"\"}}, \"*\")"
      ],
      "text/plain": [
       "<IPython.core.display.Javascript object>"
      ]
     },
     "metadata": {},
     "output_type": "display_data"
    },
    {
     "data": {
      "text/markdown": [
       "<span style=\"color:#33cc33\">Correct</span>"
      ],
      "text/plain": [
       "Correct"
      ]
     },
     "metadata": {},
     "output_type": "display_data"
    },
    {
     "data": {
      "image/png": "[encoded data removed]",
      "text/plain": [
       "<Figure size 640x480 with 1 Axes>"
      ]
     },
     "metadata": {},
     "output_type": "display_data"
    }
   ],
   "source": [
    "# Scatter plot w/ regression line showing the relationship between 'sugarpercent' and 'winpercent'\n",
    "____ # Your code here\n",
    "sns.regplot(x=candy_data['sugarpercent'], y=candy_data['winpercent'])\n",
    "\n",
    "# Check your answer\n",
    "step_4.a.check()"
   ]
  },
  {
   "cell_type": "code",
   "execution_count": 13,
   "id": "ac18926a",
   "metadata": {
    "execution": {
     "iopub.execute_input": "2023-03-30T11:55:00.905610Z",
     "iopub.status.busy": "2023-03-30T11:55:00.904831Z",
     "iopub.status.idle": "2023-03-30T11:55:00.909714Z",
     "shell.execute_reply": "2023-03-30T11:55:00.908828Z"
    },
    "papermill": {
     "duration": 0.020743,
     "end_time": "2023-03-30T11:55:00.912262",
     "exception": false,
     "start_time": "2023-03-30T11:55:00.891519",
     "status": "completed"
    },
    "tags": []
   },
   "outputs": [],
   "source": [
    "# Lines below will give you a hint or solution code\n",
    "#step_4.a.hint()\n",
    "#step_4.a.solution_plot()"
   ]
  },
  {
   "cell_type": "markdown",
   "id": "9e6f5aaa",
   "metadata": {
    "papermill": {
     "duration": 0.01086,
     "end_time": "2023-03-30T11:55:00.934502",
     "exception": false,
     "start_time": "2023-03-30T11:55:00.923642",
     "status": "completed"
    },
    "tags": []
   },
   "source": [
    "#### Part B\n",
    "\n",
    "According to the plot above, is there a **slight** correlation between `'winpercent'` and `'sugarpercent'`?  What does this tell you about the candy that people tend to prefer?"
   ]
  },
  {
   "cell_type": "code",
   "execution_count": 14,
   "id": "e38afb07",
   "metadata": {
    "execution": {
     "iopub.execute_input": "2023-03-30T11:55:00.960558Z",
     "iopub.status.busy": "2023-03-30T11:55:00.959678Z",
     "iopub.status.idle": "2023-03-30T11:55:00.964836Z",
     "shell.execute_reply": "2023-03-30T11:55:00.963881Z"
    },
    "papermill": {
     "duration": 0.021032,
     "end_time": "2023-03-30T11:55:00.967413",
     "exception": false,
     "start_time": "2023-03-30T11:55:00.946381",
     "status": "completed"
    },
    "tags": []
   },
   "outputs": [],
   "source": [
    "#step_4.b.hint()"
   ]
  },
  {
   "cell_type": "code",
   "execution_count": 15,
   "id": "4af295a1",
   "metadata": {
    "execution": {
     "iopub.execute_input": "2023-03-30T11:55:00.993219Z",
     "iopub.status.busy": "2023-03-30T11:55:00.992355Z",
     "iopub.status.idle": "2023-03-30T11:55:01.003343Z",
     "shell.execute_reply": "2023-03-30T11:55:01.001137Z"
    },
    "papermill": {
     "duration": 0.02786,
     "end_time": "2023-03-30T11:55:01.007135",
     "exception": false,
     "start_time": "2023-03-30T11:55:00.979275",
     "status": "completed"
    },
    "tags": []
   },
   "outputs": [
    {
     "data": {
      "application/javascript": [
       "parent.postMessage({\"jupyterEvent\": \"custom.exercise_interaction\", \"data\": {\"interactionType\": 3, \"questionType\": 4, \"questionId\": \"4.2_ThinkBlueReg\", \"learnToolsVersion\": \"0.3.4\", \"valueTowardsCompletion\": 0.0, \"failureMessage\": \"\", \"exceptionClass\": \"\", \"trace\": \"\", \"outcomeType\": 4}}, \"*\")"
      ],
      "text/plain": [
       "<IPython.core.display.Javascript object>"
      ]
     },
     "metadata": {},
     "output_type": "display_data"
    },
    {
     "data": {
      "text/markdown": [
       "<span style=\"color:#33cc99\">Solution:</span> Since the regression line has a slightly positive slope, this tells us that there is a slightly positive correlation between `'winpercent'` and `'sugarpercent'`. Thus, people have a slight preference for candies containing relatively more sugar."
      ],
      "text/plain": [
       "Solution: Since the regression line has a slightly positive slope, this tells us that there is a slightly positive correlation between `'winpercent'` and `'sugarpercent'`. Thus, people have a slight preference for candies containing relatively more sugar."
      ]
     },
     "metadata": {},
     "output_type": "display_data"
    }
   ],
   "source": [
    "# Check your answer (Run this code cell to receive credit!)\n",
    "step_4.b.solution()"
   ]
  },
  {
   "cell_type": "markdown",
   "id": "1c3d3c73",
   "metadata": {
    "papermill": {
     "duration": 0.011251,
     "end_time": "2023-03-30T11:55:01.030186",
     "exception": false,
     "start_time": "2023-03-30T11:55:01.018935",
     "status": "completed"
    },
    "tags": []
   },
   "source": [
    "## Step 5: Chocolate!\n",
    "\n",
    "In the code cell below, create a scatter plot to show the relationship between `'pricepercent'` (on the horizontal x-axis) and `'winpercent'` (on the vertical y-axis). Use the `'chocolate'` column to color-code the points.  _Don't add any regression lines just yet -- you'll do that in the next step!_"
   ]
  },
  {
   "cell_type": "code",
   "execution_count": 16,
   "id": "a8ebd2ab",
   "metadata": {
    "execution": {
     "iopub.execute_input": "2023-03-30T11:55:01.055186Z",
     "iopub.status.busy": "2023-03-30T11:55:01.054744Z",
     "iopub.status.idle": "2023-03-30T11:55:01.350745Z",
     "shell.execute_reply": "2023-03-30T11:55:01.349389Z"
    },
    "papermill": {
     "duration": 0.311833,
     "end_time": "2023-03-30T11:55:01.353649",
     "exception": false,
     "start_time": "2023-03-30T11:55:01.041816",
     "status": "completed"
    },
    "tags": []
   },
   "outputs": [
    {
     "data": {
      "application/javascript": [
       "parent.postMessage({\"jupyterEvent\": \"custom.exercise_interaction\", \"data\": {\"outcomeType\": 1, \"valueTowardsCompletion\": 0.3333333333333333, \"interactionType\": 1, \"questionType\": 2, \"questionId\": \"5_ColorScatter\", \"learnToolsVersion\": \"0.3.4\", \"failureMessage\": \"\", \"exceptionClass\": \"\", \"trace\": \"\"}}, \"*\")"
      ],
      "text/plain": [
       "<IPython.core.display.Javascript object>"
      ]
     },
     "metadata": {},
     "output_type": "display_data"
    },
    {
     "data": {
      "text/markdown": [
       "<span style=\"color:#33cc33\">Correct</span>"
      ],
      "text/plain": [
       "Correct"
      ]
     },
     "metadata": {},
     "output_type": "display_data"
    },
    {
     "data": {
      "image/png": "[encoded data removed]",
      "text/plain": [
       "<Figure size 640x480 with 1 Axes>"
      ]
     },
     "metadata": {},
     "output_type": "display_data"
    }
   ],
   "source": [
    "# Scatter plot showing the relationship between 'pricepercent', 'winpercent', and 'chocolate'\n",
    "____ # Your code here\n",
    "sns.scatterplot(x=candy_data['pricepercent'], y=candy_data['winpercent'], hue=candy_data['chocolate'])\n",
    "\n",
    "# Check your answer\n",
    "step_5.check()"
   ]
  },
  {
   "cell_type": "code",
   "execution_count": 17,
   "id": "dc3c26d4",
   "metadata": {
    "execution": {
     "iopub.execute_input": "2023-03-30T11:55:01.380991Z",
     "iopub.status.busy": "2023-03-30T11:55:01.380574Z",
     "iopub.status.idle": "2023-03-30T11:55:01.385414Z",
     "shell.execute_reply": "2023-03-30T11:55:01.383875Z"
    },
    "papermill": {
     "duration": 0.021689,
     "end_time": "2023-03-30T11:55:01.387942",
     "exception": false,
     "start_time": "2023-03-30T11:55:01.366253",
     "status": "completed"
    },
    "tags": []
   },
   "outputs": [],
   "source": [
    "# Lines below will give you a hint or solution code\n",
    "#step_5.hint()\n",
    "#$step_5.solution_plot()"
   ]
  },
  {
   "cell_type": "markdown",
   "id": "d9a2f9c1",
   "metadata": {
    "papermill": {
     "duration": 0.012558,
     "end_time": "2023-03-30T11:55:01.413108",
     "exception": false,
     "start_time": "2023-03-30T11:55:01.400550",
     "status": "completed"
    },
    "tags": []
   },
   "source": [
    "Can you see any interesting patterns in the scatter plot?  We'll investigate this plot further  by adding regression lines in the next step!\n",
    "\n",
    "## Step 6: Investigate chocolate\n",
    "\n",
    "#### Part A\n",
    "\n",
    "Create the same scatter plot you created in **Step 5**, but now with two regression lines, corresponding to (1) chocolate candies and (2) candies without chocolate."
   ]
  },
  {
   "cell_type": "code",
   "execution_count": 18,
   "id": "d16db89f",
   "metadata": {
    "execution": {
     "iopub.execute_input": "2023-03-30T11:55:01.440535Z",
     "iopub.status.busy": "2023-03-30T11:55:01.440132Z",
     "iopub.status.idle": "2023-03-30T11:55:02.046470Z",
     "shell.execute_reply": "2023-03-30T11:55:02.045235Z"
    },
    "papermill": {
     "duration": 0.623568,
     "end_time": "2023-03-30T11:55:02.049219",
     "exception": false,
     "start_time": "2023-03-30T11:55:01.425651",
     "status": "completed"
    },
    "tags": []
   },
   "outputs": [
    {
     "data": {
      "application/javascript": [
       "parent.postMessage({\"jupyterEvent\": \"custom.exercise_interaction\", \"data\": {\"outcomeType\": 1, \"valueTowardsCompletion\": 0.3333333333333333, \"interactionType\": 1, \"questionType\": 2, \"questionId\": \"6.1_PlotColorReg\", \"learnToolsVersion\": \"0.3.4\", \"failureMessage\": \"\", \"exceptionClass\": \"\", \"trace\": \"\"}}, \"*\")"
      ],
      "text/plain": [
       "<IPython.core.display.Javascript object>"
      ]
     },
     "metadata": {},
     "output_type": "display_data"
    },
    {
     "data": {
      "text/markdown": [
       "<span style=\"color:#33cc33\">Correct</span>"
      ],
      "text/plain": [
       "Correct"
      ]
     },
     "metadata": {},
     "output_type": "display_data"
    },
    {
     "data": {
      "image/png": "[encoded data removed]",
      "text/plain": [
       "<Figure size 578.611x500 with 1 Axes>"
      ]
     },
     "metadata": {},
     "output_type": "display_data"
    }
   ],
   "source": [
    "# Color-coded scatter plot w/ regression lines\n",
    "____ # Your code here\n",
    "sns.lmplot(x=\"pricepercent\", y=\"winpercent\", hue=\"chocolate\", data=candy_data)\n",
    "\n",
    "# Check your answer\n",
    "step_6.a.check()"
   ]
  },
  {
   "cell_type": "code",
   "execution_count": 19,
   "id": "ed26b623",
   "metadata": {
    "execution": {
     "iopub.execute_input": "2023-03-30T11:55:02.078624Z",
     "iopub.status.busy": "2023-03-30T11:55:02.077812Z",
     "iopub.status.idle": "2023-03-30T11:55:02.083335Z",
     "shell.execute_reply": "2023-03-30T11:55:02.081796Z"
    },
    "papermill": {
     "duration": 0.023304,
     "end_time": "2023-03-30T11:55:02.086204",
     "exception": false,
     "start_time": "2023-03-30T11:55:02.062900",
     "status": "completed"
    },
    "tags": []
   },
   "outputs": [],
   "source": [
    "# Lines below will give you a hint or solution code\n",
    "#step_6.a.hint()\n",
    "#step_6.a.solution_plot()"
   ]
  },
  {
   "cell_type": "markdown",
   "id": "c24c32ab",
   "metadata": {
    "papermill": {
     "duration": 0.018773,
     "end_time": "2023-03-30T11:55:02.118698",
     "exception": false,
     "start_time": "2023-03-30T11:55:02.099925",
     "status": "completed"
    },
    "tags": []
   },
   "source": [
    "#### Part B\n",
    "\n",
    "Using the regression lines, what conclusions can you draw about the effects of chocolate and price on candy popularity?"
   ]
  },
  {
   "cell_type": "code",
   "execution_count": 20,
   "id": "c4777d67",
   "metadata": {
    "execution": {
     "iopub.execute_input": "2023-03-30T11:55:02.160171Z",
     "iopub.status.busy": "2023-03-30T11:55:02.159268Z",
     "iopub.status.idle": "2023-03-30T11:55:02.163883Z",
     "shell.execute_reply": "2023-03-30T11:55:02.162902Z"
    },
    "papermill": {
     "duration": 0.027436,
     "end_time": "2023-03-30T11:55:02.166146",
     "exception": false,
     "start_time": "2023-03-30T11:55:02.138710",
     "status": "completed"
    },
    "tags": []
   },
   "outputs": [],
   "source": [
    "#step_6.b.hint()"
   ]
  },
  {
   "cell_type": "code",
   "execution_count": 21,
   "id": "2d4984f3",
   "metadata": {
    "execution": {
     "iopub.execute_input": "2023-03-30T11:55:02.197014Z",
     "iopub.status.busy": "2023-03-30T11:55:02.195971Z",
     "iopub.status.idle": "2023-03-30T11:55:02.206625Z",
     "shell.execute_reply": "2023-03-30T11:55:02.205293Z"
    },
    "papermill": {
     "duration": 0.028879,
     "end_time": "2023-03-30T11:55:02.209263",
     "exception": false,
     "start_time": "2023-03-30T11:55:02.180384",
     "status": "completed"
    },
    "tags": []
   },
   "outputs": [
    {
     "data": {
      "application/javascript": [
       "parent.postMessage({\"jupyterEvent\": \"custom.exercise_interaction\", \"data\": {\"interactionType\": 3, \"questionType\": 4, \"questionId\": \"6.2_ThinkColorReg\", \"learnToolsVersion\": \"0.3.4\", \"valueTowardsCompletion\": 0.0, \"failureMessage\": \"\", \"exceptionClass\": \"\", \"trace\": \"\", \"outcomeType\": 4}}, \"*\")"
      ],
      "text/plain": [
       "<IPython.core.display.Javascript object>"
      ]
     },
     "metadata": {},
     "output_type": "display_data"
    },
    {
     "data": {
      "text/markdown": [
       "<span style=\"color:#33cc99\">Solution:</span> We'll begin with the regression line for chocolate candies. Since this line has a slightly positive slope, we can say that more expensive chocolate candies tend to be more popular (than relatively cheaper chocolate candies).  Likewise, since the regression line for candies without chocolate has a negative slope, we can say that if candies don't contain chocolate, they tend to be more popular when they are cheaper.  One important note, however, is that the dataset is quite small -- so we shouldn't invest too much trust in these patterns!  To inspire more confidence in the results, we should add more candies to the dataset."
      ],
      "text/plain": [
       "Solution: We'll begin with the regression line for chocolate candies. Since this line has a slightly positive slope, we can say that more expensive chocolate candies tend to be more popular (than relatively cheaper chocolate candies).  Likewise, since the regression line for candies without chocolate has a negative slope, we can say that if candies don't contain chocolate, they tend to be more popular when they are cheaper.  One important note, however, is that the dataset is quite small -- so we shouldn't invest too much trust in these patterns!  To inspire more confidence in the results, we should add more candies to the dataset."
      ]
     },
     "metadata": {},
     "output_type": "display_data"
    }
   ],
   "source": [
    "# Check your answer (Run this code cell to receive credit!)\n",
    "step_6.b.solution()"
   ]
  },
  {
   "cell_type": "markdown",
   "id": "7b3974b8",
   "metadata": {
    "papermill": {
     "duration": 0.013571,
     "end_time": "2023-03-30T11:55:02.236671",
     "exception": false,
     "start_time": "2023-03-30T11:55:02.223100",
     "status": "completed"
    },
    "tags": []
   },
   "source": [
    "## Step 7: Everybody loves chocolate.\n",
    "\n",
    "#### Part A\n",
    "\n",
    "Create a categorical scatter plot to highlight the relationship between `'chocolate'` and `'winpercent'`.  Put `'chocolate'` on the (horizontal) x-axis, and `'winpercent'` on the (vertical) y-axis."
   ]
  },
  {
   "cell_type": "code",
   "execution_count": 22,
   "id": "7c9498d3",
   "metadata": {
    "execution": {
     "iopub.execute_input": "2023-03-30T11:55:02.267147Z",
     "iopub.status.busy": "2023-03-30T11:55:02.265892Z",
     "iopub.status.idle": "2023-03-30T11:55:02.649687Z",
     "shell.execute_reply": "2023-03-30T11:55:02.647944Z"
    },
    "papermill": {
     "duration": 0.403994,
     "end_time": "2023-03-30T11:55:02.654850",
     "exception": false,
     "start_time": "2023-03-30T11:55:02.250856",
     "status": "completed"
    },
    "tags": []
   },
   "outputs": [
    {
     "data": {
      "application/javascript": [
       "parent.postMessage({\"jupyterEvent\": \"custom.exercise_interaction\", \"data\": {\"outcomeType\": 1, \"valueTowardsCompletion\": 0.3333333333333333, \"interactionType\": 1, \"questionType\": 2, \"questionId\": \"7.1_PlotSwarm\", \"learnToolsVersion\": \"0.3.4\", \"failureMessage\": \"\", \"exceptionClass\": \"\", \"trace\": \"\"}}, \"*\")"
      ],
      "text/plain": [
       "<IPython.core.display.Javascript object>"
      ]
     },
     "metadata": {},
     "output_type": "display_data"
    },
    {
     "data": {
      "text/markdown": [
       "<span style=\"color:#33cc33\">Correct</span>"
      ],
      "text/plain": [
       "Correct"
      ]
     },
     "metadata": {},
     "output_type": "display_data"
    },
    {
     "data": {
      "image/png": "[encoded data removed]",
      "text/plain": [
       "<Figure size 640x480 with 1 Axes>"
      ]
     },
     "metadata": {},
     "output_type": "display_data"
    }
   ],
   "source": [
    "# Scatter plot showing the relationship between 'chocolate' and 'winpercent'\n",
    "sns.swarmplot(x=candy_data['chocolate'], y=candy_data['winpercent'])# Your code here\n",
    "\n",
    "# Check your answer\n",
    "step_7.a.check()"
   ]
  },
  {
   "cell_type": "code",
   "execution_count": 23,
   "id": "e9ee8d7e",
   "metadata": {
    "execution": {
     "iopub.execute_input": "2023-03-30T11:55:02.707902Z",
     "iopub.status.busy": "2023-03-30T11:55:02.707129Z",
     "iopub.status.idle": "2023-03-30T11:55:02.711356Z",
     "shell.execute_reply": "2023-03-30T11:55:02.710332Z"
    },
    "papermill": {
     "duration": 0.023284,
     "end_time": "2023-03-30T11:55:02.713692",
     "exception": false,
     "start_time": "2023-03-30T11:55:02.690408",
     "status": "completed"
    },
    "tags": []
   },
   "outputs": [],
   "source": [
    "# Lines below will give you a hint or solution code\n",
    "#step_7.a.hint()\n",
    "#step_7.a.solution_plot()"
   ]
  },
  {
   "cell_type": "markdown",
   "id": "351f3ba5",
   "metadata": {
    "papermill": {
     "duration": 0.014581,
     "end_time": "2023-03-30T11:55:02.743643",
     "exception": false,
     "start_time": "2023-03-30T11:55:02.729062",
     "status": "completed"
    },
    "tags": []
   },
   "source": [
    "#### Part B\n",
    "\n",
    "You decide to dedicate a section of your report to the fact that chocolate candies tend to be more popular than candies without chocolate.  Which plot is more appropriate to tell this story: the plot from **Step 6**, or the plot from **Step 7**?"
   ]
  },
  {
   "cell_type": "code",
   "execution_count": 24,
   "id": "c12849b2",
   "metadata": {
    "execution": {
     "iopub.execute_input": "2023-03-30T11:55:02.775147Z",
     "iopub.status.busy": "2023-03-30T11:55:02.774364Z",
     "iopub.status.idle": "2023-03-30T11:55:02.778572Z",
     "shell.execute_reply": "2023-03-30T11:55:02.777654Z"
    },
    "papermill": {
     "duration": 0.022836,
     "end_time": "2023-03-30T11:55:02.780824",
     "exception": false,
     "start_time": "2023-03-30T11:55:02.757988",
     "status": "completed"
    },
    "tags": []
   },
   "outputs": [],
   "source": [
    "#step_7.b.hint()"
   ]
  },
  {
   "cell_type": "code",
   "execution_count": 25,
   "id": "8b9da6f8",
   "metadata": {
    "execution": {
     "iopub.execute_input": "2023-03-30T11:55:02.812793Z",
     "iopub.status.busy": "2023-03-30T11:55:02.812038Z",
     "iopub.status.idle": "2023-03-30T11:55:02.819803Z",
     "shell.execute_reply": "2023-03-30T11:55:02.818810Z"
    },
    "papermill": {
     "duration": 0.026567,
     "end_time": "2023-03-30T11:55:02.822047",
     "exception": false,
     "start_time": "2023-03-30T11:55:02.795480",
     "status": "completed"
    },
    "tags": []
   },
   "outputs": [
    {
     "data": {
      "application/javascript": [
       "parent.postMessage({\"jupyterEvent\": \"custom.exercise_interaction\", \"data\": {\"interactionType\": 3, \"questionType\": 4, \"questionId\": \"7.2_ThinkSwarm\", \"learnToolsVersion\": \"0.3.4\", \"valueTowardsCompletion\": 0.0, \"failureMessage\": \"\", \"exceptionClass\": \"\", \"trace\": \"\", \"outcomeType\": 4}}, \"*\")"
      ],
      "text/plain": [
       "<IPython.core.display.Javascript object>"
      ]
     },
     "metadata": {},
     "output_type": "display_data"
    },
    {
     "data": {
      "text/markdown": [
       "<span style=\"color:#33cc99\">Solution:</span> In this case, the categorical scatter plot from **Step 7** is the more appropriate plot. While both plots tell the desired story, the plot from **Step 6** conveys far more information that could distract from the main point."
      ],
      "text/plain": [
       "Solution: In this case, the categorical scatter plot from **Step 7** is the more appropriate plot. While both plots tell the desired story, the plot from **Step 6** conveys far more information that could distract from the main point."
      ]
     },
     "metadata": {},
     "output_type": "display_data"
    }
   ],
   "source": [
    "# Check your answer (Run this code cell to receive credit!)\n",
    "step_7.b.solution()"
   ]
  },
  {
   "cell_type": "markdown",
   "id": "18f44f32",
   "metadata": {
    "papermill": {
     "duration": 0.014163,
     "end_time": "2023-03-30T11:55:02.850950",
     "exception": false,
     "start_time": "2023-03-30T11:55:02.836787",
     "status": "completed"
    },
    "tags": []
   },
   "source": [
    "## Keep going\n",
    "\n",
    "Explore **[histograms and density plots](https://www.kaggle.com/alexisbcook/distributions)**."
   ]
  },
  {
   "cell_type": "markdown",
   "id": "f83639b8",
   "metadata": {
    "papermill": {
     "duration": 0.014784,
     "end_time": "2023-03-30T11:55:02.880347",
     "exception": false,
     "start_time": "2023-03-30T11:55:02.865563",
     "status": "completed"
    },
    "tags": []
   },
   "source": [
    "---\n",
    "\n",
    "\n",
    "\n",
    "\n",
    "*Have questions or comments? Visit the [course discussion forum](https://www.kaggle.com/learn/data-visualization/discussion) to chat with other learners.*"
   ]
  }
 ],
 "metadata": {
  "kernelspec": {
   "display_name": "Python 3",
   "language": "python",
   "name": "python3"
  },
  "language_info": {
   "codemirror_mode": {
    "name": "ipython",
    "version": 3
   },
   "file_extension": ".py",
   "mimetype": "text/x-python",
   "name": "python",
   "nbconvert_exporter": "python",
   "pygments_lexer": "ipython3",
   "version": "3.7.12"
  },
  "papermill": {
   "default_parameters": {},
   "duration": 16.873938,
   "end_time": "2023-03-30T11:55:03.719355",
   "environment_variables": {},
   "exception": null,
   "input_path": "__notebook__.ipynb",
   "output_path": "__notebook__.ipynb",
   "parameters": {},
   "start_time": "2023-03-30T11:54:46.845417",
   "version": "2.4.0"
  }
 },
 "nbformat": 4,
 "nbformat_minor": 5
}
